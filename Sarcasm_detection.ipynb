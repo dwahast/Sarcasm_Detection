{
  "nbformat": 4,
  "nbformat_minor": 0,
  "metadata": {
    "colab": {
      "name": "Sarcasm_detection",
      "version": "0.3.2",
      "provenance": [],
      "collapsed_sections": [],
      "toc_visible": true
    },
    "kernelspec": {
      "name": "python3",
      "display_name": "Python 3"
    },
    "accelerator": "GPU"
  },
  "cells": [
    {
      "cell_type": "markdown",
      "metadata": {
        "id": "WDg3-H7XXNRx",
        "colab_type": "text"
      },
      "source": [
        "# Preparando DataFrame Sarcastico"
      ]
    },
    {
      "cell_type": "code",
      "metadata": {
        "id": "P7DZ7dttNAs6",
        "colab_type": "code",
        "colab": {}
      },
      "source": [
        "import pandas as pd"
      ],
      "execution_count": 0,
      "outputs": []
    },
    {
      "cell_type": "code",
      "metadata": {
        "id": "biG8m2m4NUmi",
        "colab_type": "code",
        "colab": {}
      },
      "source": [
        "df = pd.read_csv(\"sarcastic_data.csv\")\n",
        "\n",
        "find = [\"#sqn\", \"#Sqn\", \"#SQN\", \"sqn\", \"Sqn\", \"SQN\"]\n",
        "\n",
        "sarcastic_df = pd.DataFrame(columns=[\"text\",\"is_sarcastic\"])\n",
        "\n",
        "for t in df.text:\n",
        "  for f in find:\n",
        "    if t.__contains__(f):\n",
        "      x = t.split(f)\n",
        "      sarcastic_df.loc[len(sarcastic_df)] = [x[0], 1]\n",
        "      break"
      ],
      "execution_count": 0,
      "outputs": []
    },
    {
      "cell_type": "code",
      "metadata": {
        "id": "bUFT_jwTT8O9",
        "colab_type": "code",
        "outputId": "d0f6c4e6-ff9b-4f9e-bfef-f972269c40e2",
        "colab": {
          "base_uri": "https://localhost:8080/",
          "height": 204
        }
      },
      "source": [
        "sarcastic_df.tail()"
      ],
      "execution_count": 0,
      "outputs": [
        {
          "output_type": "execute_result",
          "data": {
            "text/html": [
              "<div>\n",
              "<style scoped>\n",
              "    .dataframe tbody tr th:only-of-type {\n",
              "        vertical-align: middle;\n",
              "    }\n",
              "\n",
              "    .dataframe tbody tr th {\n",
              "        vertical-align: top;\n",
              "    }\n",
              "\n",
              "    .dataframe thead th {\n",
              "        text-align: right;\n",
              "    }\n",
              "</style>\n",
              "<table border=\"1\" class=\"dataframe\">\n",
              "  <thead>\n",
              "    <tr style=\"text-align: right;\">\n",
              "      <th></th>\n",
              "      <th>text</th>\n",
              "      <th>is_sarcastic</th>\n",
              "    </tr>\n",
              "  </thead>\n",
              "  <tbody>\n",
              "    <tr>\n",
              "      <th>4304</th>\n",
              "      <td>Que governo responsável.</td>\n",
              "      <td>1</td>\n",
              "    </tr>\n",
              "    <tr>\n",
              "      <th>4305</th>\n",
              "      <td>@mariadorosario Vc tem toc? Q desespero....\\nV...</td>\n",
              "      <td>1</td>\n",
              "    </tr>\n",
              "    <tr>\n",
              "      <th>4306</th>\n",
              "      <td>Se vc esquece o guarda chuva no escritório, ta...</td>\n",
              "      <td>1</td>\n",
              "    </tr>\n",
              "    <tr>\n",
              "      <th>4307</th>\n",
              "      <td>@gleisi Falou a AMANTE \"POBRETONA\"</td>\n",
              "      <td>1</td>\n",
              "    </tr>\n",
              "    <tr>\n",
              "      <th>4308</th>\n",
              "      <td>@Avelar_16 minha vó não faz mas nada p mim, aq...</td>\n",
              "      <td>1</td>\n",
              "    </tr>\n",
              "  </tbody>\n",
              "</table>\n",
              "</div>"
            ],
            "text/plain": [
              "                                                   text is_sarcastic\n",
              "4304                          Que governo responsável.             1\n",
              "4305  @mariadorosario Vc tem toc? Q desespero....\\nV...            1\n",
              "4306  Se vc esquece o guarda chuva no escritório, ta...            1\n",
              "4307                @gleisi Falou a AMANTE \"POBRETONA\"             1\n",
              "4308  @Avelar_16 minha vó não faz mas nada p mim, aq...            1"
            ]
          },
          "metadata": {
            "tags": []
          },
          "execution_count": 25
        }
      ]
    },
    {
      "cell_type": "code",
      "metadata": {
        "id": "cXWC_E-dZTIp",
        "colab_type": "code",
        "outputId": "ddc60d88-b899-47dc-d956-4300dede70fa",
        "colab": {
          "base_uri": "https://localhost:8080/",
          "height": 187
        }
      },
      "source": [
        "for t in sarcastic_df.text:\n",
        "  for f in find:\n",
        "    if t.__contains__(f):\n",
        "      x = t.split(f)\n",
        "      print(t)\n",
        "      break\n",
        "\n"
      ],
      "execution_count": 0,
      "outputs": [
        {
          "output_type": "stream",
          "text": [
            "Feriadão igual a fudeção...sqn!!! \n",
            "Véspera de feriado, e nós tá como?\n",
            "Só na sensualidade! - sqn\n",
            ".\n",
            ".\n",
            "Atenciosamente\n",
            "Fellipe Barroso\n",
            ".\n",
            ".\n",
            "#carrara #estilocarrara #sexy \n"
          ],
          "name": "stdout"
        }
      ]
    },
    {
      "cell_type": "code",
      "metadata": {
        "id": "WVeMc6V8Xwkj",
        "colab_type": "code",
        "colab": {}
      },
      "source": [
        "df = pd.read_csv(\"not_sarcastic_data.csv\")\n",
        "\n",
        "find = \"#\"\n",
        "\n",
        "not_sarcastic_df = pd.DataFrame(columns=[\"text\",\"is_sarcastic\"])\n",
        "\n",
        "for t in df.text:\n",
        "  if t.__contains__(f):\n",
        "    x = t.split(f)\n",
        "    not_sarcastic_df.loc[len(not_sarcastic_df)] = [x[0], 0]\n",
        "  else:\n",
        "    not_sarcastic_df.loc[len(not_sarcastic_df)] = [t, 0]\n"
      ],
      "execution_count": 0,
      "outputs": []
    },
    {
      "cell_type": "code",
      "metadata": {
        "id": "bPlUp8VdZAvK",
        "colab_type": "code",
        "outputId": "6f9b31ac-f4ac-4740-c266-c3673b1c8f3f",
        "colab": {
          "base_uri": "https://localhost:8080/",
          "height": 204
        }
      },
      "source": [
        "not_sarcastic_df.tail()"
      ],
      "execution_count": 0,
      "outputs": [
        {
          "output_type": "execute_result",
          "data": {
            "text/html": [
              "<div>\n",
              "<style scoped>\n",
              "    .dataframe tbody tr th:only-of-type {\n",
              "        vertical-align: middle;\n",
              "    }\n",
              "\n",
              "    .dataframe tbody tr th {\n",
              "        vertical-align: top;\n",
              "    }\n",
              "\n",
              "    .dataframe thead th {\n",
              "        text-align: right;\n",
              "    }\n",
              "</style>\n",
              "<table border=\"1\" class=\"dataframe\">\n",
              "  <thead>\n",
              "    <tr style=\"text-align: right;\">\n",
              "      <th></th>\n",
              "      <th>text</th>\n",
              "      <th>is_sarcastic</th>\n",
              "    </tr>\n",
              "  </thead>\n",
              "  <tbody>\n",
              "    <tr>\n",
              "      <th>4455</th>\n",
              "      <td>Você curte fazer playlists? — sim a https://t....</td>\n",
              "      <td>0</td>\n",
              "    </tr>\n",
              "    <tr>\n",
              "      <th>4456</th>\n",
              "      <td>Eu ai gente https://t.co/8Yp8cFvk7c</td>\n",
              "      <td>0</td>\n",
              "    </tr>\n",
              "    <tr>\n",
              "      <th>4457</th>\n",
              "      <td>@PopCrave Vá com deus</td>\n",
              "      <td>0</td>\n",
              "    </tr>\n",
              "    <tr>\n",
              "      <th>4458</th>\n",
              "      <td>O Flamengo deve comprar Gabigol por 68mi?</td>\n",
              "      <td>0</td>\n",
              "    </tr>\n",
              "    <tr>\n",
              "      <th>4459</th>\n",
              "      <td>era só um sushizinho agora</td>\n",
              "      <td>0</td>\n",
              "    </tr>\n",
              "  </tbody>\n",
              "</table>\n",
              "</div>"
            ],
            "text/plain": [
              "                                                   text is_sarcastic\n",
              "4455  Você curte fazer playlists? — sim a https://t....            0\n",
              "4456                Eu ai gente https://t.co/8Yp8cFvk7c            0\n",
              "4457                              @PopCrave Vá com deus            0\n",
              "4458          O Flamengo deve comprar Gabigol por 68mi?            0\n",
              "4459                         era só um sushizinho agora            0"
            ]
          },
          "metadata": {
            "tags": []
          },
          "execution_count": 28
        }
      ]
    },
    {
      "cell_type": "code",
      "metadata": {
        "id": "6ywWUWyjZtLS",
        "colab_type": "code",
        "colab": {}
      },
      "source": [
        ""
      ],
      "execution_count": 0,
      "outputs": []
    },
    {
      "cell_type": "markdown",
      "metadata": {
        "id": "N7Q6mKlNbfQ2",
        "colab_type": "text"
      },
      "source": [
        "## Concatenando DataFrames das duas classes"
      ]
    },
    {
      "cell_type": "code",
      "metadata": {
        "id": "5-U-hBDebe36",
        "colab_type": "code",
        "outputId": "e03a6232-586d-4394-be70-ac016eb800a4",
        "colab": {
          "base_uri": "https://localhost:8080/",
          "height": 359
        }
      },
      "source": [
        "merged = pd.concat([sarcastic_df, not_sarcastic_df])\n",
        "merged = merged.reset_index(drop=True)\n",
        "\n",
        "#Embaralhando dataframe\n",
        "merged = merged.sample(frac=1).reset_index(drop=True)\n",
        "merged.tail(10)\n"
      ],
      "execution_count": 0,
      "outputs": [
        {
          "output_type": "execute_result",
          "data": {
            "text/html": [
              "<div>\n",
              "<style scoped>\n",
              "    .dataframe tbody tr th:only-of-type {\n",
              "        vertical-align: middle;\n",
              "    }\n",
              "\n",
              "    .dataframe tbody tr th {\n",
              "        vertical-align: top;\n",
              "    }\n",
              "\n",
              "    .dataframe thead th {\n",
              "        text-align: right;\n",
              "    }\n",
              "</style>\n",
              "<table border=\"1\" class=\"dataframe\">\n",
              "  <thead>\n",
              "    <tr style=\"text-align: right;\">\n",
              "      <th></th>\n",
              "      <th>text</th>\n",
              "      <th>is_sarcastic</th>\n",
              "    </tr>\n",
              "  </thead>\n",
              "  <tbody>\n",
              "    <tr>\n",
              "      <th>8759</th>\n",
              "      <td>Mandei 4 pastel ali agora que se tá doido</td>\n",
              "      <td>0</td>\n",
              "    </tr>\n",
              "    <tr>\n",
              "      <th>8760</th>\n",
              "      <td>#LulaLivreJa\\n</td>\n",
              "      <td>1</td>\n",
              "    </tr>\n",
              "    <tr>\n",
              "      <th>8761</th>\n",
              "      <td>Olá boa tarde, estou esperando seu bom dia!</td>\n",
              "      <td>0</td>\n",
              "    </tr>\n",
              "    <tr>\n",
              "      <th>8762</th>\n",
              "      <td>@Gil2707 @DilaComments E nao é pq quando vemos...</td>\n",
              "      <td>0</td>\n",
              "    </tr>\n",
              "    <tr>\n",
              "      <th>8763</th>\n",
              "      <td>@veramagalhaes Sua opiniao é muito importante ...</td>\n",
              "      <td>1</td>\n",
              "    </tr>\n",
              "    <tr>\n",
              "      <th>8764</th>\n",
              "      <td>um adolescente q ñ se rebela acaba adoecendo. ...</td>\n",
              "      <td>0</td>\n",
              "    </tr>\n",
              "    <tr>\n",
              "      <th>8765</th>\n",
              "      <td>@Littig1999 Menina, voce é um anjo. O mundo pr...</td>\n",
              "      <td>0</td>\n",
              "    </tr>\n",
              "    <tr>\n",
              "      <th>8766</th>\n",
              "      <td>não entendo tb https://t.co/oekaGEPAi2</td>\n",
              "      <td>0</td>\n",
              "    </tr>\n",
              "    <tr>\n",
              "      <th>8767</th>\n",
              "      <td>Isso é um planejamento perfeito!!!</td>\n",
              "      <td>1</td>\n",
              "    </tr>\n",
              "    <tr>\n",
              "      <th>8768</th>\n",
              "      <td>@vanessagesouza Mini férias</td>\n",
              "      <td>1</td>\n",
              "    </tr>\n",
              "  </tbody>\n",
              "</table>\n",
              "</div>"
            ],
            "text/plain": [
              "                                                   text is_sarcastic\n",
              "8759          Mandei 4 pastel ali agora que se tá doido            0\n",
              "8760                                     #LulaLivreJa\\n            1\n",
              "8761        Olá boa tarde, estou esperando seu bom dia!            0\n",
              "8762  @Gil2707 @DilaComments E nao é pq quando vemos...            0\n",
              "8763  @veramagalhaes Sua opiniao é muito importante ...            1\n",
              "8764  um adolescente q ñ se rebela acaba adoecendo. ...            0\n",
              "8765  @Littig1999 Menina, voce é um anjo. O mundo pr...            0\n",
              "8766             não entendo tb https://t.co/oekaGEPAi2            0\n",
              "8767                Isso é um planejamento perfeito!!!             1\n",
              "8768                       @vanessagesouza Mini férias             1"
            ]
          },
          "metadata": {
            "tags": []
          },
          "execution_count": 29
        }
      ]
    },
    {
      "cell_type": "code",
      "metadata": {
        "id": "avmZda5wR7LE",
        "colab_type": "code",
        "outputId": "b26ce9c8-6cdd-4d92-8b46-3bb67f9a6ea2",
        "colab": {
          "base_uri": "https://localhost:8080/",
          "height": 122
        }
      },
      "source": [
        "all_text = \"\"\n",
        "all_characters = []\n",
        "for w in merged.text:\n",
        "  all_text += w\n",
        "  \n",
        "all_characters = ''.join(set(all_text))\n",
        "n_characters = len(all_characters)\n",
        "print(n_characters)\n",
        "print(all_characters)\n",
        "print(type(list(all_characters)))\n",
        "all_char_dict = {v:k for k, v in enumerate(all_characters)}\n",
        "print(all_char_dict.keys())"
      ],
      "execution_count": 0,
      "outputs": [
        {
          "output_type": "stream",
          "text": [
            "430\n",
            "☑🤔🐃🙌🤢🚬😤📆👦💗☺😑🐂🍯😉😠🔃🙂Dd🍃😋Õ🛏💁🐙🥳💟n´ê👻📻$😕🤯L📱‍7º😣🐽oÍ🎊 🤣B🙉💜󠁴😓N🌹😁🚀🧐😄˚₊🐺🍔😚😘😡%🌏a…cí👈😃🤭🙄😵✌4@0Z🌅🍺🌘🍁/-à🤲\"♀☕Úr😢—🚑🤘X🎷🏫☀Áè🎚\\🙈;🤮CP😩\n",
            "😇🌎y・🐷🔮“⛆‘😯🤒👇🚨🍞👨🧛🇧u⚽❄⬅🎈💃🕺😭😛🤨🥶🍩Ãx❤v🏾🕯m༄V=💔👭🍟2󠁳🥰🚩*🥞K🍫🌔👍🙊💐Q😪🧡ķ😏☝🤩🏿gM8HI”🔸🌒💋󠁣😥🙁🌧]👼🇹6🙃|🎼e💘📽🌼🤙❣🏴😎🏼💥^🕉👏😖󠁢O🤫🇨🤑fw♡i😔💭1🎶☻😒🤷3♂🍻🌊😙🌓F€z🐱R¿🗯👩b👎ı🌍💚⚖🌈E🇰💅💪©🥺h👫🥴.💞🎉õ🏳💛🥋G,🤪+🤡Ô↬🦚😱💣)🙅👋󠁧À🤞👺é🏻🌸🚺É👊~👀🙏qñô💕🎟🚗👹A🍷ì🔝W🤦🎤😳‼😍💏📚👌💇🎧Ñt🤗🌷💨🐶j°➡😦🖒🖤🦑😀â🤤👂😫T📋🌄😅S🎮 🤓🆘'[😲×✊👰ç😂🦇Çs•😜🇵_💬🇺’?💩ó😈ªü😬♥🌖↕🧔💯9😝Yã!⚓k🔥🍸U🇦🤧:😌😻👑🥂🇷🤥–️😴😹😊✨🤟💙🌤🏽🌝💦🌺™l󠁿😰💖Êp5👆👉á&#😞J🎂📍✅😆🎳🤝🥵🎵(🤬👅📷úÓ☹\n",
            "<class 'list'>\n",
            "dict_keys(['☑', '🤔', '🐃', '🙌', '🤢', '🚬', '😤', '📆', '👦', '💗', '☺', '😑', '🐂', '🍯', '😉', '😠', '🔃', '🙂', 'D', 'd', '🍃', '😋', 'Õ', '🛏', '💁', '🐙', '\\U0001f973', '💟', 'n', '´', 'ê', '👻', '📻', '$', '😕', '\\U0001f92f', 'L', '📱', '\\u200d', '7', 'º', '😣', '🐽', 'o', 'Í', '🎊', '\\xa0', '🤣', 'B', '🙉', '💜', '\\U000e0074', '😓', 'N', '🌹', '😁', '🚀', '\\U0001f9d0', '😄', '˚', '₊', '🐺', '🍔', '😚', '😘', '😡', '%', '🌏', 'a', '…', 'c', 'í', '👈', '😃', '\\U0001f92d', '🙄', '😵', '✌', '4', '@', '0', 'Z', '🌅', '🍺', '🌘', '🍁', '/', '-', 'à', '\\U0001f932', '\"', '♀', '☕', 'Ú', 'r', '😢', '—', '🚑', '🤘', 'X', '🎷', '🏫', '☀', 'Á', 'è', '🎚', '\\\\', '🙈', ';', '\\U0001f92e', 'C', 'P', '😩', '\\n', '😇', '🌎', 'y', '・', '🐷', '🔮', '“', '⛆', '‘', '😯', '🤒', '👇', '🚨', '🍞', '👨', '\\U0001f9db', '🇧', 'u', '⚽', '❄', '⬅', '🎈', '💃', '🕺', '😭', '😛', '\\U0001f928', '\\U0001f976', '🍩', 'Ã', 'x', '❤', 'v', '🏾', '🕯', 'm', '༄', 'V', '=', '💔', '👭', '🍟', '2', '\\U000e0073', '\\U0001f970', '🚩', '*', '🥞', 'K', '🍫', '🌔', '👍', '🙊', '💐', 'Q', '😪', '\\U0001f9e1', 'ķ', '😏', '☝', '\\U0001f929', '🏿', 'g', 'M', '8', 'H', 'I', '”', '🔸', '🌒', '💋', '\\U000e0063', '😥', '🙁', '🌧', ']', '👼', '🇹', '6', '🙃', '|', '🎼', 'e', '💘', '📽', '🌼', '🤙', '❣', '🏴', '😎', '🏼', '💥', '^', '🕉', '👏', '😖', '\\U000e0062', 'O', '\\U0001f92b', '🇨', '🤑', 'f', 'w', '♡', 'i', '😔', '💭', '1', '🎶', '☻', '😒', '🤷', '3', '♂', '🍻', '🌊', '😙', '🌓', 'F', '€', 'z', '🐱', 'R', '¿', '🗯', '👩', 'b', '👎', 'ı', '🌍', '💚', '⚖', '🌈', 'E', '🇰', '💅', '💪', '©', '\\U0001f97a', 'h', '👫', '\\U0001f974', '.', '💞', '🎉', 'õ', '🏳', '💛', '🥋', 'G', ',', '\\U0001f92a', '+', '🤡', 'Ô', '↬', '\\U0001f99a', '😱', '💣', ')', '🙅', '👋', '\\U000e0067', 'À', '🤞', '👺', 'é', '🏻', '🌸', '🚺', 'É', '👊', '~', '👀', '🙏', 'q', 'ñ', 'ô', '💕', '🎟', '🚗', '👹', 'A', '🍷', 'ì', '🔝', 'W', '🤦', '🎤', '😳', '‼', '😍', '💏', '📚', '👌', '💇', '🎧', 'Ñ', 't', '🤗', '🌷', '💨', '🐶', 'j', '°', '➡', '😦', '🖒', '🖤', '🦑', '😀', 'â', '🤤', '👂', '😫', 'T', '📋', '🌄', '😅', 'S', '🎮', ' ', '🤓', '🆘', \"'\", '[', '😲', '×', '✊', '👰', 'ç', '😂', '🦇', 'Ç', 's', '•', '😜', '🇵', '_', '💬', '🇺', '’', '?', '💩', 'ó', '😈', 'ª', 'ü', '😬', '♥', '🌖', '↕', '\\U0001f9d4', '💯', '9', '😝', 'Y', 'ã', '!', '⚓', 'k', '🔥', '🍸', 'U', '🇦', '🤧', ':', '😌', '😻', '👑', '🥂', '🇷', '🤥', '–', '️', '😴', '😹', '😊', '✨', '\\U0001f91f', '💙', '🌤', '🏽', '🌝', '💦', '🌺', '™', 'l', '\\U000e007f', '😰', '💖', 'Ê', 'p', '5', '👆', '👉', 'á', '&', '#', '😞', 'J', '🎂', '📍', '✅', '😆', '🎳', '🤝', '\\U0001f975', '🎵', '(', '\\U0001f92c', '👅', '📷', 'ú', 'Ó', '☹'])\n"
          ],
          "name": "stdout"
        }
      ]
    },
    {
      "cell_type": "markdown",
      "metadata": {
        "id": "qPjXyhCrmC0V",
        "colab_type": "text"
      },
      "source": [
        "## Separando Dataset para treino, test e validação"
      ]
    },
    {
      "cell_type": "code",
      "metadata": {
        "id": "YYzLcSiomLRP",
        "colab_type": "code",
        "colab": {}
      },
      "source": [
        "import math\n",
        "#math.ceil(len(merged)*0.7)\n",
        "#math.ceil(len(merged)*0.9)\n",
        "# train_dataset = merged[0:math.ceil(len(merged)*0.7)]\n",
        "# test_dataset = merged[math.ceil(len(merged)*0.7):math.ceil(len(merged)*0.9)]\n",
        "# validation_dataset = merged[math.ceil(len(merged)*0.9):len(merged)]\n",
        "#print(train_dataset.tail())\n",
        "#print(test_dataset)\n",
        "#print(validation_dataset.head())"
      ],
      "execution_count": 0,
      "outputs": []
    },
    {
      "cell_type": "markdown",
      "metadata": {
        "id": "noX0UFbqvw5h",
        "colab_type": "text"
      },
      "source": [
        "# Processamento dos Dados"
      ]
    },
    {
      "cell_type": "markdown",
      "metadata": {
        "id": "eD9qXmchVvY_",
        "colab_type": "text"
      },
      "source": [
        "## Keras"
      ]
    },
    {
      "cell_type": "code",
      "metadata": {
        "id": "faEPzDXWP_-P",
        "colab_type": "code",
        "outputId": "c2dcafad-fccc-4f94-acd7-a4d2b95008a4",
        "colab": {
          "base_uri": "https://localhost:8080/",
          "height": 88
        }
      },
      "source": [
        "  from keras.preprocessing.text import Tokenizer\n",
        "# # The maximum number of words to be used. (most frequent)\n",
        "  MAX_NB_WORDS = 562\n",
        "# # Max number of words in each complaint.\n",
        "  MAX_SEQUENCE_LENGTH = 280\n",
        "# # This is fixed.\n",
        "  tokenizer = Tokenizer(num_words=MAX_NB_WORDS, char_level=True)\n",
        "  tokenizer.fit_on_texts(merged['text'].values)\n",
        "  word_index = tokenizer.word_index\n",
        "  print(word_index.keys())\n",
        "  print('Found %s unique tokens.' % len(word_index))\n",
        "  print(word_index)"
      ],
      "execution_count": 0,
      "outputs": [
        {
          "output_type": "stream",
          "text": [
            "dict_keys([' ', 'a', 'e', 'o', 's', 'r', 'i', 'n', 't', 'm', 'd', 'u', 'c', 'l', 'p', 'h', 'v', '.', 'g', 'b', '@', 'f', 'k', 'q', ',', '/', 'j', 'ã', 'é', 'z', '\\n', '!', 'á', 'x', '?', 'ç', ':', '_', 'y', '1', 'w', 'ó', 'í', '0', '2', 'ê', '#', '\"', '😂', '3', '7', '4', '5', '9', '8', '-', '6', '🤣', 'ú', 'ô', '(', 'õ', ')', '️', '“', '👏', '”', '😍', ';', 'â', '\\u200d', '❤', '*', '🏻', 'à', \"'\", '—', '&', '🤦', '%', '😭', '$', '🤔', '😅', '🏼', '🙄', '😔', '👍', '\\U0001f970', '+', '♂', '😁', '🏽', 'ñ', '♀', '😱', '[', '\\U0001f92a', ']', '🙏', '\\\\', '👇', '\\U0001f97a', '🇧', '🇷', '🎶', '\\U0001f92c', '😊', '🌈', '😒', '🏳', '=', '😉', '\\U0001f92e', '😘', '😄', '😡', '🕯', '👌', '…', '🙌', '😈', '🤷', '👉', '😪', '°', '✌', '💕', '💔', '💖', '’', '😢', '😋', '\\U0001f975', '🖤', '😎', '😜', '😠', '😆', '😞', '😏', '💪', '💞', '|', '😤', '\\U0001f92d', '♥', '👩', '\\xa0', '😃', '•', '😬', '💙', '😩', '🤧', '😴', '😻', '💏', '🤗', '\\U0001f929', '💟', '🏾', '🙈', '🔥', '🤤', '😫', '💩', '✨', '¿', '😳', '👨', '🙊', '😝', '\\U0001f928', '💃', '\\U0001f92f', '💜', '☹', '‘', '💋', '👫', '😇', '💣', '💗', '🎼', '✊', '🤙', '😥', '💥', '🌄', '😣', '😕', '😛', '🍺', '🍻', '🙃', '🌅', '👎', '🎉', '🐃', '😯', '🙅', '~', '😓', '🚩', '\\U0001f92b', '🤡', '⚽', '💛', '😑', '–', '📚', 'º', '😌', '👈', '🤢', '😀', 'ķ', '😹', '\\U0001f973', '👀', '\\U0001f974', '🖒', '🌼', '🤘', '☀', '👺', '☺', '😰', '💘', '・', '🇦', '🇹', '💅', '🌸', '❄', '🚑', '💐', '♡', '🥋', '🌝', '\\U0001f9d0', 'ª', '🍃', '🤥', '💬', '🎊', '💨', '😖', '🚨', '🚬', '🤑', '🍟', '🐽', '🌎', '💚', '🏿', '👼', '🔮', '☑', 'ı', '🍷', '💭', '🏴', '\\U000e0067', '\\U000e0062', '\\U000e0073', '\\U000e0063', '\\U000e0074', '\\U000e007f', '📱', '×', '❣', '🎮', '^', '👂', '🐺', 'è', '👋', '👆', '🛏', '🙉', '🌹', '\\U0001f9d4', '🎧', '🎤', '™', '👅', '💦', '🍸', '\\U0001f91f', '👦', '🌊', '👰', '☝', 'ü', '‼', '😚', '👊', '🍁', '⛆', '🌧', '🙂', '⚖', '☻', '✅', '💁', '🕉', '👭', '🤝', '🇨', '🇺', '🚗', '🕺', '👹', '🤒', '🍔', '🤓', '😲', '🦇', '\\U0001f99a', '↬', '₊', '˚', '༄', '´', '↕', '⬅', '➡', '🇰', '🇵', '👻', '🚀', '🐱', '🥞', '🍯', '🍫', '🐙', '🎵', '🎷', '🔝', '🌍', '🌏', '🌒', '🌔', '🌓', '🌖', '🌘', '€', '🤞', '👑', '☕', '🗯', '🏫', '🐂', 'ì', '🥂', '🙁', '🍩', '🎈', '🐶', '🔸', '💯', '\\U0001f9e1', '💇', '😙', '📋', '\\U0001f976', '📽', '🐷', '🦑', '🆘', '📷', '©', '⚓', '🌺', '📆', '📍', '🎟', '🎚', '📻', '🔃', '🌤', '😦', '🍞', '😵', '\\U0001f932', '\\U0001f9db', '🌷', '🎳', '🎂', '🚺'])\n",
            "Found 392 unique tokens.\n",
            "{' ': 1, 'a': 2, 'e': 3, 'o': 4, 's': 5, 'r': 6, 'i': 7, 'n': 8, 't': 9, 'm': 10, 'd': 11, 'u': 12, 'c': 13, 'l': 14, 'p': 15, 'h': 16, 'v': 17, '.': 18, 'g': 19, 'b': 20, '@': 21, 'f': 22, 'k': 23, 'q': 24, ',': 25, '/': 26, 'j': 27, 'ã': 28, 'é': 29, 'z': 30, '\\n': 31, '!': 32, 'á': 33, 'x': 34, '?': 35, 'ç': 36, ':': 37, '_': 38, 'y': 39, '1': 40, 'w': 41, 'ó': 42, 'í': 43, '0': 44, '2': 45, 'ê': 46, '#': 47, '\"': 48, '😂': 49, '3': 50, '7': 51, '4': 52, '5': 53, '9': 54, '8': 55, '-': 56, '6': 57, '🤣': 58, 'ú': 59, 'ô': 60, '(': 61, 'õ': 62, ')': 63, '️': 64, '“': 65, '👏': 66, '”': 67, '😍': 68, ';': 69, 'â': 70, '\\u200d': 71, '❤': 72, '*': 73, '🏻': 74, 'à': 75, \"'\": 76, '—': 77, '&': 78, '🤦': 79, '%': 80, '😭': 81, '$': 82, '🤔': 83, '😅': 84, '🏼': 85, '🙄': 86, '😔': 87, '👍': 88, '\\U0001f970': 89, '+': 90, '♂': 91, '😁': 92, '🏽': 93, 'ñ': 94, '♀': 95, '😱': 96, '[': 97, '\\U0001f92a': 98, ']': 99, '🙏': 100, '\\\\': 101, '👇': 102, '\\U0001f97a': 103, '🇧': 104, '🇷': 105, '🎶': 106, '\\U0001f92c': 107, '😊': 108, '🌈': 109, '😒': 110, '🏳': 111, '=': 112, '😉': 113, '\\U0001f92e': 114, '😘': 115, '😄': 116, '😡': 117, '🕯': 118, '👌': 119, '…': 120, '🙌': 121, '😈': 122, '🤷': 123, '👉': 124, '😪': 125, '°': 126, '✌': 127, '💕': 128, '💔': 129, '💖': 130, '’': 131, '😢': 132, '😋': 133, '\\U0001f975': 134, '🖤': 135, '😎': 136, '😜': 137, '😠': 138, '😆': 139, '😞': 140, '😏': 141, '💪': 142, '💞': 143, '|': 144, '😤': 145, '\\U0001f92d': 146, '♥': 147, '👩': 148, '\\xa0': 149, '😃': 150, '•': 151, '😬': 152, '💙': 153, '😩': 154, '🤧': 155, '😴': 156, '😻': 157, '💏': 158, '🤗': 159, '\\U0001f929': 160, '💟': 161, '🏾': 162, '🙈': 163, '🔥': 164, '🤤': 165, '😫': 166, '💩': 167, '✨': 168, '¿': 169, '😳': 170, '👨': 171, '🙊': 172, '😝': 173, '\\U0001f928': 174, '💃': 175, '\\U0001f92f': 176, '💜': 177, '☹': 178, '‘': 179, '💋': 180, '👫': 181, '😇': 182, '💣': 183, '💗': 184, '🎼': 185, '✊': 186, '🤙': 187, '😥': 188, '💥': 189, '🌄': 190, '😣': 191, '😕': 192, '😛': 193, '🍺': 194, '🍻': 195, '🙃': 196, '🌅': 197, '👎': 198, '🎉': 199, '🐃': 200, '😯': 201, '🙅': 202, '~': 203, '😓': 204, '🚩': 205, '\\U0001f92b': 206, '🤡': 207, '⚽': 208, '💛': 209, '😑': 210, '–': 211, '📚': 212, 'º': 213, '😌': 214, '👈': 215, '🤢': 216, '😀': 217, 'ķ': 218, '😹': 219, '\\U0001f973': 220, '👀': 221, '\\U0001f974': 222, '🖒': 223, '🌼': 224, '🤘': 225, '☀': 226, '👺': 227, '☺': 228, '😰': 229, '💘': 230, '・': 231, '🇦': 232, '🇹': 233, '💅': 234, '🌸': 235, '❄': 236, '🚑': 237, '💐': 238, '♡': 239, '🥋': 240, '🌝': 241, '\\U0001f9d0': 242, 'ª': 243, '🍃': 244, '🤥': 245, '💬': 246, '🎊': 247, '💨': 248, '😖': 249, '🚨': 250, '🚬': 251, '🤑': 252, '🍟': 253, '🐽': 254, '🌎': 255, '💚': 256, '🏿': 257, '👼': 258, '🔮': 259, '☑': 260, 'ı': 261, '🍷': 262, '💭': 263, '🏴': 264, '\\U000e0067': 265, '\\U000e0062': 266, '\\U000e0073': 267, '\\U000e0063': 268, '\\U000e0074': 269, '\\U000e007f': 270, '📱': 271, '×': 272, '❣': 273, '🎮': 274, '^': 275, '👂': 276, '🐺': 277, 'è': 278, '👋': 279, '👆': 280, '🛏': 281, '🙉': 282, '🌹': 283, '\\U0001f9d4': 284, '🎧': 285, '🎤': 286, '™': 287, '👅': 288, '💦': 289, '🍸': 290, '\\U0001f91f': 291, '👦': 292, '🌊': 293, '👰': 294, '☝': 295, 'ü': 296, '‼': 297, '😚': 298, '👊': 299, '🍁': 300, '⛆': 301, '🌧': 302, '🙂': 303, '⚖': 304, '☻': 305, '✅': 306, '💁': 307, '🕉': 308, '👭': 309, '🤝': 310, '🇨': 311, '🇺': 312, '🚗': 313, '🕺': 314, '👹': 315, '🤒': 316, '🍔': 317, '🤓': 318, '😲': 319, '🦇': 320, '\\U0001f99a': 321, '↬': 322, '₊': 323, '˚': 324, '༄': 325, '´': 326, '↕': 327, '⬅': 328, '➡': 329, '🇰': 330, '🇵': 331, '👻': 332, '🚀': 333, '🐱': 334, '🥞': 335, '🍯': 336, '🍫': 337, '🐙': 338, '🎵': 339, '🎷': 340, '🔝': 341, '🌍': 342, '🌏': 343, '🌒': 344, '🌔': 345, '🌓': 346, '🌖': 347, '🌘': 348, '€': 349, '🤞': 350, '👑': 351, '☕': 352, '🗯': 353, '🏫': 354, '🐂': 355, 'ì': 356, '🥂': 357, '🙁': 358, '🍩': 359, '🎈': 360, '🐶': 361, '🔸': 362, '💯': 363, '\\U0001f9e1': 364, '💇': 365, '😙': 366, '📋': 367, '\\U0001f976': 368, '📽': 369, '🐷': 370, '🦑': 371, '🆘': 372, '📷': 373, '©': 374, '⚓': 375, '🌺': 376, '📆': 377, '📍': 378, '🎟': 379, '🎚': 380, '📻': 381, '🔃': 382, '🌤': 383, '😦': 384, '🍞': 385, '😵': 386, '\\U0001f932': 387, '\\U0001f9db': 388, '🌷': 389, '🎳': 390, '🎂': 391, '🚺': 392}\n"
          ],
          "name": "stdout"
        }
      ]
    },
    {
      "cell_type": "code",
      "metadata": {
        "id": "y4TfELByRB0E",
        "colab_type": "code",
        "outputId": "054142b3-ece2-48d6-df03-3ed714779142",
        "colab": {
          "base_uri": "https://localhost:8080/",
          "height": 34
        }
      },
      "source": [
        "from keras.preprocessing.sequence import pad_sequences\n",
        "X = tokenizer.texts_to_sequences(merged['text'].values)\n",
        "X = pad_sequences(X, maxlen=MAX_SEQUENCE_LENGTH)\n",
        "print('Shape of data tensor:', X.shape)"
      ],
      "execution_count": 0,
      "outputs": [
        {
          "output_type": "stream",
          "text": [
            "Shape of data tensor: (8769, 280)\n"
          ],
          "name": "stdout"
        }
      ]
    },
    {
      "cell_type": "code",
      "metadata": {
        "id": "uoOxDQL-SBMg",
        "colab_type": "code",
        "outputId": "e1c46774-fa55-448d-ac24-ba13a1a93172",
        "colab": {
          "base_uri": "https://localhost:8080/",
          "height": 34
        }
      },
      "source": [
        "Y = pd.get_dummies(merged['is_sarcastic']).values\n",
        "print('Shape of label tensor:', Y.shape)"
      ],
      "execution_count": 0,
      "outputs": [
        {
          "output_type": "stream",
          "text": [
            "Shape of label tensor: (8769, 2)\n"
          ],
          "name": "stdout"
        }
      ]
    },
    {
      "cell_type": "code",
      "metadata": {
        "id": "cFPTTbnUSJMM",
        "colab_type": "code",
        "outputId": "84aa8481-cfc6-42d1-f203-bb01921659fa",
        "colab": {
          "base_uri": "https://localhost:8080/",
          "height": 51
        }
      },
      "source": [
        "from sklearn.model_selection import train_test_split\n",
        "X_train, X_test, Y_train, Y_test = train_test_split(X,Y, test_size = 0.10, random_state = 42)\n",
        "print(X_train.shape,Y_train.shape)\n",
        "print(X_test.shape,Y_test.shape)\n"
      ],
      "execution_count": 0,
      "outputs": [
        {
          "output_type": "stream",
          "text": [
            "(7892, 280) (7892, 2)\n",
            "(877, 280) (877, 2)\n"
          ],
          "name": "stdout"
        }
      ]
    },
    {
      "cell_type": "code",
      "metadata": {
        "id": "DlkHSNK6SrSS",
        "colab_type": "code",
        "outputId": "3ac1f292-12e5-493f-aff0-922e98915ecb",
        "colab": {
          "base_uri": "https://localhost:8080/",
          "height": 289
        }
      },
      "source": [
        "from keras.models import Sequential\n",
        "from keras.layers import Dense, Embedding, LSTM, SpatialDropout1D\n",
        "from keras import optimizers\n",
        "\n",
        "EMBEDDING_DIM = 100\n",
        "model = Sequential()\n",
        "model.add(Embedding(MAX_NB_WORDS, EMBEDDING_DIM, input_length=X.shape[1]))\n",
        "model.add(SpatialDropout1D(0.2))\n",
        "model.add(LSTM(100, dropout=0.2, recurrent_dropout=0.1))\n",
        "model.add(Dense(2, activation='softmax'))\n",
        "\n",
        "adam = optimizers.Adam(lr=0.001, decay=0.00001)\n",
        "\n",
        "model.compile(loss='categorical_crossentropy', optimizer=adam, metrics=['accuracy'])\n",
        "print(model.summary())"
      ],
      "execution_count": 0,
      "outputs": [
        {
          "output_type": "stream",
          "text": [
            "_________________________________________________________________\n",
            "Layer (type)                 Output Shape              Param #   \n",
            "=================================================================\n",
            "embedding_4 (Embedding)      (None, 280, 100)          56200     \n",
            "_________________________________________________________________\n",
            "spatial_dropout1d_4 (Spatial (None, 280, 100)          0         \n",
            "_________________________________________________________________\n",
            "lstm_4 (LSTM)                (None, 100)               80400     \n",
            "_________________________________________________________________\n",
            "dense_4 (Dense)              (None, 2)                 202       \n",
            "=================================================================\n",
            "Total params: 136,802\n",
            "Trainable params: 136,802\n",
            "Non-trainable params: 0\n",
            "_________________________________________________________________\n",
            "None\n"
          ],
          "name": "stdout"
        }
      ]
    },
    {
      "cell_type": "code",
      "metadata": {
        "id": "Z3gppl2uSvL5",
        "colab_type": "code",
        "outputId": "58ab8323-20da-47f0-f9cd-4109f5e4cd6e",
        "colab": {
          "base_uri": "https://localhost:8080/",
          "height": 204
        }
      },
      "source": [
        "from keras.callbacks import EarlyStopping\n",
        "epochs = 5\n",
        "batch_size = 128\n",
        "\n",
        "history = model.fit(X_train, Y_train, epochs=epochs, batch_size=batch_size,validation_split=0.1,callbacks=[EarlyStopping(monitor='val_loss', patience=3, min_delta=0.0001)])"
      ],
      "execution_count": 0,
      "outputs": [
        {
          "output_type": "stream",
          "text": [
            "Train on 7102 samples, validate on 790 samples\n",
            "Epoch 1/5\n",
            "7102/7102 [==============================] - 29s 4ms/step - loss: 0.4896 - acc: 0.8340 - val_loss: 0.2294 - val_acc: 0.9329\n",
            "Epoch 2/5\n",
            "7102/7102 [==============================] - 28s 4ms/step - loss: 0.1136 - acc: 0.9637 - val_loss: 0.0795 - val_acc: 0.9734\n",
            "Epoch 3/5\n",
            "7102/7102 [==============================] - 28s 4ms/step - loss: 0.0625 - acc: 0.9758 - val_loss: 0.0750 - val_acc: 0.9734\n",
            "Epoch 4/5\n",
            "7102/7102 [==============================] - 28s 4ms/step - loss: 0.0565 - acc: 0.9770 - val_loss: 0.0731 - val_acc: 0.9747\n",
            "Epoch 5/5\n",
            "7102/7102 [==============================] - 28s 4ms/step - loss: 0.0537 - acc: 0.9793 - val_loss: 0.0778 - val_acc: 0.9722\n"
          ],
          "name": "stdout"
        }
      ]
    },
    {
      "cell_type": "code",
      "metadata": {
        "id": "T2vxawYgUT-W",
        "colab_type": "code",
        "outputId": "e0f0e821-405f-4e20-e4ac-91530adaac96",
        "colab": {
          "base_uri": "https://localhost:8080/",
          "height": 85
        }
      },
      "source": [
        "accr = model.evaluate(X_test,Y_test)\n",
        "print('Test set\\n  Loss: {:0.3f}\\n  Accuracy: {:0.3f}'.format(accr[0],accr[1]))"
      ],
      "execution_count": 0,
      "outputs": [
        {
          "output_type": "stream",
          "text": [
            "877/877 [==============================] - 5s 5ms/step\n",
            "Test set\n",
            "  Loss: 0.068\n",
            "  Accuracy: 0.981\n"
          ],
          "name": "stdout"
        }
      ]
    },
    {
      "cell_type": "code",
      "metadata": {
        "id": "HbOZbA8GTeKt",
        "colab_type": "code",
        "outputId": "755d4ee5-03c7-49a8-a6b6-213e13347d03",
        "colab": {
          "base_uri": "https://localhost:8080/",
          "height": 281
        }
      },
      "source": [
        "import matplotlib.pyplot as plt\n",
        "\n",
        "plt.title('Loss')\n",
        "plt.plot(history.history['loss'], label='train')\n",
        "plt.plot(history.history['val_loss'], label='test')\n",
        "plt.legend()\n",
        "plt.show();"
      ],
      "execution_count": 0,
      "outputs": [
        {
          "output_type": "display_data",
          "data": {
            "image/png": "[encoded data removed]",
            "text/plain": [
              "<Figure size 432x288 with 1 Axes>"
            ]
          },
          "metadata": {
            "tags": []
          }
        }
      ]
    },
    {
      "cell_type": "code",
      "metadata": {
        "id": "xbPuWyHnTznL",
        "colab_type": "code",
        "outputId": "0db5a7b1-9621-4c7d-9379-50dcd3ec291e",
        "colab": {
          "base_uri": "https://localhost:8080/",
          "height": 281
        }
      },
      "source": [
        "plt.title('Accuracy')\n",
        "plt.plot(history.history['acc'], label='train')\n",
        "plt.plot(history.history['val_acc'], label='test')\n",
        "plt.legend()\n",
        "plt.show();"
      ],
      "execution_count": 0,
      "outputs": [
        {
          "output_type": "display_data",
          "data": {
            "image/png": "[encoded data removed]",
            "text/plain": [
              "<Figure size 432x288 with 1 Axes>"
            ]
          },
          "metadata": {
            "tags": []
          }
        }
      ]
    },
    {
      "cell_type": "markdown",
      "metadata": {
        "id": "03dBMSu4VlrV",
        "colab_type": "text"
      },
      "source": [
        "## Pytorch"
      ]
    },
    {
      "cell_type": "code",
      "metadata": {
        "id": "vlfzwVZRxBDD",
        "colab_type": "code",
        "colab": {}
      },
      "source": [
        "import torch\n",
        "import torch.nn as nn\n",
        "import numpy as np\n",
        "from torch.autograd import Variable\n",
        "\n",
        "import time"
      ],
      "execution_count": 0,
      "outputs": []
    },
    {
      "cell_type": "code",
      "metadata": {
        "id": "O_SViGXgwDSn",
        "colab_type": "code",
        "colab": {}
      },
      "source": [
        "def char_tensor(string):\n",
        "    string = \"{:<280}\".format(string) #set the size to 280 with spaces\n",
        "    tensor = torch.zeros(len(string)).long()\n",
        "    for c in range(len(string)):\n",
        "      try:\n",
        "        tensor[c] = all_characters.index(string[c])\n",
        "      except:\n",
        "        print(c)\n",
        "        raise\n",
        "    return Variable(tensor)\n",
        "  \n",
        "print(char_tensor(merged['text'][0]))\n",
        "\n"
      ],
      "execution_count": 0,
      "outputs": []
    },
    {
      "cell_type": "code",
      "metadata": {
        "id": "XQNumaWe3qm9",
        "colab_type": "code",
        "colab": {}
      },
      "source": [
        "# for inp,label in zip(train_dataset['text'],train_dataset['is_sarcastic']):\n",
        "#   print(inp)"
      ],
      "execution_count": 0,
      "outputs": []
    },
    {
      "cell_type": "code",
      "metadata": {
        "id": "hxmlktpp5LRz",
        "colab_type": "code",
        "colab": {}
      },
      "source": [
        "class RNN(nn.Module):\n",
        "    def __init__(self, input_size, hidden_size, output_size, n_layers=1):\n",
        "        super(RNN, self).__init__()\n",
        "        self.input_size = input_size\n",
        "        self.hidden_size = hidden_size\n",
        "        self.output_size = output_size\n",
        "        self.n_layers = n_layers\n",
        "        \n",
        "        self.encoder = nn.Embedding(input_size, hidden_size)\n",
        "        self.gru = nn.GRU(hidden_size, hidden_size, n_layers)\n",
        "        self.decoder = nn.Linear(hidden_size, output_size)\n",
        "    \n",
        "    def forward(self, input, hidden):\n",
        "        input = self.encoder(input.view(1, -1))\n",
        "        output, hidden = self.gru(input.view(1, 1, -1), hidden)\n",
        "        decoded_output = self.decoder(output.view(1, -1))\n",
        "        return decoded_output, hidden\n",
        "\n",
        "    def init_hidden(self):\n",
        "        return Variable(torch.zeros(self.n_layers, 1, self.hidden_size))"
      ],
      "execution_count": 0,
      "outputs": []
    },
    {
      "cell_type": "code",
      "metadata": {
        "id": "SbvP-gvM1AUE",
        "colab_type": "code",
        "colab": {}
      },
      "source": [
        "def one_hot(label, output_size):\n",
        "    print(label)\n",
        "    label_select = np.zeros(output_size)\n",
        "    label_select[label] = 1\n",
        "    \n",
        "    return torch.Tensor(label_select).long()"
      ],
      "execution_count": 0,
      "outputs": []
    },
    {
      "cell_type": "code",
      "metadata": {
        "id": "KL8181MF6f4w",
        "colab_type": "code",
        "colab": {}
      },
      "source": [
        "def evaluate(prime_str='A', predict_len=100, temperature=0.8):\n",
        "    hidden = rnn.init_hidden().cuda()\n",
        "    prime_input = char_tensor(prime_str).cuda()\n",
        "    predicted = prime_str\n",
        "\n",
        "    # prime_str é o texto inicial que o gerado irá completar\n",
        "    for p in range(len(prime_str) - 1):\n",
        "        _, hidden = rnn(prime_input[p], hidden)\n",
        "    inp = prime_input[-1]\n",
        "    \n",
        "    for p in range(predict_len):\n",
        "        output, hidden = rnn(inp, hidden)\n",
        "        \n",
        "        # Usa a temperatura para amostrar a distribuição e escolher a saída probabilísticamente\n",
        "        output_dist = output.data.view(-1).div(temperature).exp()\n",
        "        top_i = torch.multinomial(output_dist, 1)[0]\n",
        "        \n",
        "        # Adiciona o caracter predito à string de saída\n",
        "        predicted_char = all_characters[top_i]\n",
        "        predicted += predicted_char\n",
        "        inp = char_tensor(predicted_char).cuda()\n",
        "\n",
        "    return predicted"
      ],
      "execution_count": 0,
      "outputs": []
    },
    {
      "cell_type": "code",
      "metadata": {
        "id": "IYlPN6vY5sla",
        "colab_type": "code",
        "colab": {}
      },
      "source": [
        "# Treina sobre um exemplo (i.e. uma amostragem do texto)\n",
        "\n",
        "def train(inp, target):\n",
        "    hidden = rnn.init_hidden()\n",
        "    rnn.zero_grad()\n",
        "    loss = 0\n",
        "    tg = torch.zeros(1).long()\n",
        "    tg[0] = target\n",
        "    tg = tg.cuda()\n",
        "    inp = inp.cuda()\n",
        "    hidden = hidden.cuda()\n",
        "    for c in range(len(inp)):\n",
        "        output, hidden = rnn(inp[c], hidden)\n",
        "        print(output)\n",
        "        loss += loss_metric(output, tg)\n",
        "\n",
        "    loss.backward()\n",
        "    optimizer.step()\n",
        "\n",
        "    return loss.data.item() / len(inp)"
      ],
      "execution_count": 0,
      "outputs": []
    },
    {
      "cell_type": "code",
      "metadata": {
        "id": "BG_ug85x5ksG",
        "colab_type": "code",
        "colab": {}
      },
      "source": [
        "target = torch.empty(1, dtype=torch.long).random_(5)\n",
        "print(target)\n",
        "tensor = torch.zeros(1).long()\n",
        "tensor[0] = 1\n",
        "print(tensor)\n",
        "input = torch.randn(3, 5, requires_grad=True)\n",
        "print(input)"
      ],
      "execution_count": 0,
      "outputs": []
    },
    {
      "cell_type": "code",
      "metadata": {
        "id": "YAeBqx3e6NLr",
        "colab_type": "code",
        "colab": {}
      },
      "source": [
        "n_epochs = 50000\n",
        "print_every = 2\n",
        "hidden_size = 512\n",
        "n_layers = 2\n",
        "lr = 0.0005\n",
        "\n",
        "cuda = torch.device('cuda')\n",
        "\n",
        "rnn = RNN(n_characters, hidden_size, 1, n_layers)\n",
        "rnn.cuda()\n",
        "\n",
        "optimizer = torch.optim.Adam(rnn.parameters(), lr=lr)\n",
        "loss_metric = nn.CrossEntropyLoss()\n",
        "\n",
        "start = time.time()\n",
        "all_losses = []\n",
        "loss_avg = 0\n",
        "\n",
        "for epoch in range(1, n_epochs + 1):\n",
        "  for inp,label in zip(train_dataset['text'],train_dataset['is_sarcastic']):\n",
        "    inp = char_tensor(inp)\n",
        "    loss = train(inp,label)       \n",
        "    loss_avg += loss\n",
        "\n",
        "    if epoch % print_every == 0:\n",
        "        print('[%s (%d %d%%) %.4f]' % (time_since(start), epoch, epoch / n_epochs * 100, loss))\n",
        "        print(evaluate(rnn, test_dataset), '\\n')"
      ],
      "execution_count": 0,
      "outputs": []
    }
  ]
}